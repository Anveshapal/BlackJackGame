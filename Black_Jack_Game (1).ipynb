{
  "nbformat": 4,
  "nbformat_minor": 0,
  "metadata": {
    "colab": {
      "provenance": []
    },
    "kernelspec": {
      "name": "python3",
      "display_name": "Python 3"
    },
    "language_info": {
      "name": "python"
    }
  },
  "cells": [
    {
      "cell_type": "code",
      "execution_count": null,
      "metadata": {
        "id": "QEKVrWc1xkV-"
      },
      "outputs": [],
      "source": []
    },
    {
      "cell_type": "code",
      "source": [
        "suits = ['Hearts','Clubs','Diamonds','Spade']\n",
        "\n",
        "ranks = ['Two', 'Three', 'Four', 'Five', 'Six', 'Seven', 'Eight', 'Nine', 'Ten', 'Jack', 'Queen', 'King', 'Ace']\n",
        "values = {'Two':2, 'Three':3, 'Four':4, 'Five':5, 'Six':6, 'Seven':7, 'Eight':8, 'Nine':9, 'Ten':10, 'Jack':10,\n",
        "         'Queen':10, 'King':10, 'Ace':11}"
      ],
      "metadata": {
        "id": "MugYcUE8xoDL"
      },
      "execution_count": null,
      "outputs": []
    },
    {
      "cell_type": "code",
      "source": [
        "import random\n",
        "playing = True"
      ],
      "metadata": {
        "id": "C4vaYIy-8g5t"
      },
      "execution_count": null,
      "outputs": []
    },
    {
      "cell_type": "code",
      "source": [
        "class Card():\n",
        "\n",
        "    def __init__(self, suit, rank):\n",
        "        self.rank = rank\n",
        "        self.suit = suit\n",
        "        self.value = values[rank]\n",
        "\n",
        "    def __str__(self):\n",
        "        return self.rank + \" of \" + self.suit"
      ],
      "metadata": {
        "id": "Ib1l2Mt28hDf"
      },
      "execution_count": null,
      "outputs": []
    },
    {
      "cell_type": "code",
      "source": [
        "class Deck():\n",
        "\n",
        "    def __init__(self):\n",
        "\n",
        "        self.deck = []\n",
        "        for suit in suits:\n",
        "            for rank in ranks:\n",
        "                self.deck.append(Card(suit,rank)) #creating a composition # objects are stored in the deck\n",
        "\n",
        "    def __str__(self):\n",
        "        deck_comp = ''\n",
        "        for card in self.deck:\n",
        "            deck_comp += '\\n' + card.__str__() # printing the str from card class\n",
        "\n",
        "        return deck_comp\n",
        "\n",
        "\n",
        "    def deck_list(self):\n",
        "            list3 = self.deck\n",
        "            return list3\n",
        "\n",
        "    def shuffle_(self):\n",
        "        random.shuffle(self.deck)\n",
        "\n",
        "    def deal(self):\n",
        "        single_card = self.deck.pop()\n",
        "        return single_card\n",
        "\n",
        "\n"
      ],
      "metadata": {
        "id": "uo6ZPPJP8hLE"
      },
      "execution_count": null,
      "outputs": []
    },
    {
      "cell_type": "code",
      "source": [
        "class Hand:\n",
        "\n",
        "    def __init__(self):\n",
        "\n",
        "        self.cards = []\n",
        "        self.value = 0\n",
        "        self.ace = 0\n",
        "\n",
        "    def add_card(self,card):\n",
        "\n",
        "        self.cards.append(card)\n",
        "        self.value += values[card.rank]\n",
        "\n",
        "        if card.rank == 'Ace':\n",
        "            self.ace+= 1\n",
        "\n",
        "    def adjust_for_ace(self):\n",
        "\n",
        "        #if card is equal to ace, then do this\n",
        "\n",
        "        while self.value > 21 and self.ace:\n",
        "            self.value-= 10\n",
        "            self.ace -= 1\n",
        "\n",
        "\n",
        "\n"
      ],
      "metadata": {
        "id": "M2Z7iPbD8hSi"
      },
      "execution_count": null,
      "outputs": []
    },
    {
      "cell_type": "code",
      "source": [
        "class Chip():\n",
        "\n",
        "    def __init__(self):\n",
        "        self.total = 50\n",
        "        self.bet = 0\n",
        "\n",
        "    def win_bet(self):\n",
        "        self.total = self.total+ self.bet\n",
        "\n",
        "    def loose_bet(self):\n",
        "        self.total=  self.total - self.bet\n"
      ],
      "metadata": {
        "id": "gmB3bj078hfi"
      },
      "execution_count": null,
      "outputs": []
    },
    {
      "cell_type": "code",
      "source": [
        "# taking a bet\n",
        "def take_bet(chip):\n",
        "\n",
        "    while True:\n",
        "\n",
        "      chip.bet = int(input('enter your bet amount'))\n",
        "\n",
        "      try :\n",
        "         if chip.bet <= chip.total:\n",
        "             break\n",
        "\n",
        "         elif chip.bet > chip.total:\n",
        "                 print('Sorry! chips exceeds the total amount : ', chip.total)\n",
        "      except:\n",
        "            print('Invalid Input , please enter an integer')\n",
        "\n"
      ],
      "metadata": {
        "id": "qOV2s1Vt8hno"
      },
      "execution_count": null,
      "outputs": []
    },
    {
      "cell_type": "code",
      "source": [
        "def take_hits(deck, hand):\n",
        "\n",
        "    pulled_card = deck.deal()\n",
        "    hand.add_card(pulled_card)\n",
        "\n",
        "    hand.adjust_for_ace()"
      ],
      "metadata": {
        "id": "pZ6QjC8V8zoy"
      },
      "execution_count": null,
      "outputs": []
    },
    {
      "cell_type": "code",
      "source": [
        "def hit_stand(deck,hand):\n",
        "    global playing\n",
        "    while True:\n",
        "\n",
        "\n",
        "        if hand.value >= 21:\n",
        "             break\n",
        "\n",
        "\n",
        "        response = input('you want to hit or stand (h or s):')\n",
        "\n",
        "\n",
        "        if response == 'h' :\n",
        "            take_hits(deck,hand)\n",
        "            show_player(hand)\n",
        "\n",
        "            if hand.value > 21:\n",
        "                break\n",
        "\n",
        "        elif response == 's':\n",
        "           playing = False\n",
        "           break\n",
        "        else:\n",
        "           print('ValueError, only h and s allowed')\n",
        "\n",
        "\n"
      ],
      "metadata": {
        "id": "q8u887fk8z9e"
      },
      "execution_count": null,
      "outputs": []
    },
    {
      "cell_type": "code",
      "source": [
        "def show_some(player,dealer):\n",
        "\n",
        "    index = 1\n",
        "    index2 = 1\n",
        "\n",
        "    print('player\\'s cards : ')\n",
        "    for card in player.cards:\n",
        "        print(f'card {index}: {card}')\n",
        "        index+= 1\n",
        "    print('player\\'s value :',player.value)\n",
        "\n",
        "    print('                   ')\n",
        "    print('dealer\\'s cards')\n",
        "    for card in dealer.cards[:-1]:\n",
        "        print(f'card {index2}: {card}')\n",
        "        index2+= 1"
      ],
      "metadata": {
        "id": "AYitxd_u80AS"
      },
      "execution_count": null,
      "outputs": []
    },
    {
      "cell_type": "code",
      "source": [
        "def show_all(player,dealer):\n",
        "\n",
        "    index = 1\n",
        "    index2 = 1\n",
        "\n",
        "    print('player\\'s cards : ')\n",
        "    for card in player.cards:\n",
        "        print(f'card {index}: {card}')\n",
        "        index+= 1\n",
        "    print('player\\'s value :',player.value)\n",
        "\n",
        "    print('                   ') #empty space\n",
        "    print('dealer\\'s cards')\n",
        "    for card in dealer.cards:\n",
        "        print(f'card {index2}: {card}')\n",
        "        index2+= 1\n",
        "    print('dealer\\'s value :',dealer.value)\n"
      ],
      "metadata": {
        "id": "XbsBTifq80EB"
      },
      "execution_count": null,
      "outputs": []
    },
    {
      "cell_type": "code",
      "source": [
        "def show_player(hand):\n",
        "\n",
        "    index = 1\n",
        "\n",
        "    print('player\\'s cards : ')\n",
        "    for card in player.cards:\n",
        "        print(f'card {index}: {card}')\n",
        "        index+= 1\n",
        "    hand.adjust_for_ace()\n",
        "    print('player\\'s value :',player.value)"
      ],
      "metadata": {
        "id": "xZeK95zN80HF"
      },
      "execution_count": null,
      "outputs": []
    },
    {
      "cell_type": "code",
      "source": [
        "def player_busts(dealer_hand,player_hand,chip):\n",
        "\n",
        "   if dealer_hand.value <=21 and player_hand.value >21:\n",
        "       print('Final result : player busts!')\n",
        "       chip.loose_bet()\n",
        "\n"
      ],
      "metadata": {
        "id": "h7uH0b8J8--j"
      },
      "execution_count": null,
      "outputs": []
    },
    {
      "cell_type": "code",
      "source": [
        "def player_wins(dealer_hand,player_hand,chip):\n",
        "\n",
        "    if player.value<= 21 and dealer.value<= 21:\n",
        "           print('Final result : Player wins!')\n",
        "           chip.win_bet()\n"
      ],
      "metadata": {
        "id": "CEsBY4na8_B7"
      },
      "execution_count": null,
      "outputs": []
    },
    {
      "cell_type": "code",
      "source": [
        "def dealer_busts(dealer_hand,player_hand,chip):\n",
        "\n",
        "        print('Final result : dealer busts!')\n",
        "        chip.win_bet()"
      ],
      "metadata": {
        "id": "vw2Ip4d68_EP"
      },
      "execution_count": null,
      "outputs": []
    },
    {
      "cell_type": "code",
      "source": [
        "def dealer_wins(dealer_hand,player_hand,chip):\n",
        "\n",
        "            print('Final result : dealer wins!')\n",
        "            chip.loose_bet()"
      ],
      "metadata": {
        "id": "BxRD4tCi8h0h"
      },
      "execution_count": null,
      "outputs": []
    },
    {
      "cell_type": "code",
      "source": [
        "def push(dealer_hand,player_hand,chip):\n",
        "          print(' Final result : It\\'s a push!')"
      ],
      "metadata": {
        "id": "d-9Mj9Gi9NTz"
      },
      "execution_count": null,
      "outputs": []
    },
    {
      "cell_type": "code",
      "source": [
        "while True:\n",
        "            print('Welcome to the BlackJack Game!')\n",
        "\n",
        "\n",
        "        # Create & shuffle the deck, deal two cards to each player\n",
        "            deck_main = Deck()\n",
        "            deck_main.shuffle_()\n",
        "\n",
        "            player = Hand()\n",
        "            player.add_card(deck_main.deal())\n",
        "            player.add_card(deck_main.deal())\n",
        "            player.adjust_for_ace()\n",
        "\n",
        "            dealer = Hand()\n",
        "            dealer.add_card(deck_main.deal())\n",
        "            dealer.add_card(deck_main.deal())\n",
        "            dealer.adjust_for_ace()\n",
        "\n",
        "\n",
        "\n",
        "\n",
        "\n",
        "        # Set up the Player's chips, prompt the Player for their bet\n",
        "            player_chip = Chip()\n",
        "            take_bet(player_chip)\n",
        "            print('                           ')#empty space\n",
        "\n",
        "        # Show cards (but keep one dealer card hidden)\n",
        "            show_some(player,dealer)\n",
        "            print('                     ')#empty space\n",
        "\n",
        "\n",
        "\n",
        "\n",
        "            while playing:  # this variable from  hit_or_stand function\n",
        "\n",
        "                # Prompt for Player to Hit or Stand\n",
        "                    hit_stand(deck_main,player)\n",
        "                    print('  ')\n",
        "\n",
        "                # Show cards (but keep one dealer card hidden)\n",
        "                    print('Player\\'s final')\n",
        "                    show_some(player,dealer)\n",
        "                    print('              ')\n",
        "\n",
        "\n",
        "\n",
        "                # If player's hand exceeds 21, run player_busts() and break out of loop\n",
        "                    if  player.value > 21:\n",
        "                        player_busts(dealer,player,player_chip)\n",
        "                        print(' ')\n",
        "                        print('Final result : player busts!')\n",
        "                        playing = False\n",
        "\n",
        "\n",
        "\n",
        "\n",
        "                # If Player hasn't busted, play Dealer's hand until Dealer reaches 17\n",
        "            if player.value <= 21:\n",
        "                    print('Dealer is hitting until >= 17')\n",
        "                    print('                         ')#empty space\n",
        "\n",
        "                    while dealer.value < 17:\n",
        "\n",
        "                         if dealer.value < 17:\n",
        "                             dealer.add_card(deck_main.deal())\n",
        "                             dealer.adjust_for_ace()\n",
        "\n",
        "\n",
        "\n",
        "       # Show all cards\n",
        "            show_all(player,dealer)\n",
        "\n",
        "       # Run different winning scenarios\n",
        "            if player.value<= 21:\n",
        "\n",
        "                    if dealer.value > 21:\n",
        "                        dealer_busts(dealer,player,player_chip)\n",
        "                    elif dealer.value> player.value:\n",
        "                        dealer_wins(dealer,player,player_chip)\n",
        "                    elif dealer.value < player.value:\n",
        "                        player_wins(dealer,player,player_chip)\n",
        "                    else:\n",
        "                        push(dealer,player,player_chip)\n",
        "\n",
        "       # Inform Player of their chips total\n",
        "            print('                   ')#empty space\n",
        "            print('Player\\'s chip : ',player_chip.total)\n",
        "       # Ask to play again\n",
        "            again = input('Do you want to play again ( y or n ):')\n",
        "            if again[0].lower() == 'y':\n",
        "                playing = True\n",
        "                continue\n",
        "            else:\n",
        "                break\n",
        "\n",
        "\n"
      ],
      "metadata": {
        "colab": {
          "base_uri": "https://localhost:8080/"
        },
        "id": "1wn7Soi29NXQ",
        "outputId": "f44722c0-5e54-4e3f-ab0f-00a3ab7d872b"
      },
      "execution_count": null,
      "outputs": [
        {
          "output_type": "stream",
          "name": "stdout",
          "text": [
            "Welcome to the BlackJack Game!\n",
            "enter your bet amount7\n",
            "                           \n",
            "player's cards : \n",
            "card 1: Five of Hearts\n",
            "card 2: Ten of Diamonds\n",
            "player's value : 15\n",
            "                   \n",
            "dealer's cards\n",
            "card 1: Eight of Clubs\n",
            "                     \n"
          ]
        }
      ]
    },
    {
      "cell_type": "code",
      "source": [],
      "metadata": {
        "id": "BIkHeosA9NZ3"
      },
      "execution_count": null,
      "outputs": []
    },
    {
      "cell_type": "code",
      "source": [],
      "metadata": {
        "id": "EE0BkEH7xzAC"
      },
      "execution_count": null,
      "outputs": []
    }
  ]
}